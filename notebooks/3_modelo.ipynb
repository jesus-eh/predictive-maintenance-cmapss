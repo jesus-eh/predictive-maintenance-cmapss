{
 "cells": [
  {
   "cell_type": "code",
   "execution_count": null,
   "id": "e158c768",
   "metadata": {},
   "outputs": [
    {
     "name": "stdout",
     "output_type": "stream",
     "text": [
      "Train motors: 80, Test motors: 20\n",
      "RMSE: 34.38\n",
      "MAE:  24.18\n",
      "Modelo guardado en ../models/rf_model_fd001.pkl\n"
     ]
    }
   ],
   "source": [
    "# 1. Importar librerías\n",
    "import pandas as pd\n",
    "import numpy as np\n",
    "from sklearn.model_selection import train_test_split\n",
    "from sklearn.ensemble import RandomForestRegressor\n",
    "from sklearn.metrics import mean_squared_error, mean_absolute_error\n",
    "import joblib\n",
    "import os\n",
    "\n",
    "# Cargar datos procesados\n",
    "data = pd.read_csv(\"../data/CMAPSSData/train_FD001_features.csv\")\n",
    "\n",
    "# Definir features y etiqueta\n",
    "target_col = 'RUL' # Variable objetivo\n",
    "drop_cols = ['unit', 'time', 'RUL']  # columnas que no queremos como features\n",
    "\n",
    "X = data.drop(columns=drop_cols) # Matriz de carasteristicas \n",
    "y = data[target_col] # Vector de etiquetas\n",
    "\n",
    "# Separar en train y test\n",
    "# ⚠ Importante: split por unidades para no mezclar ciclos del mismo motor\n",
    "units = data['unit'].unique() # Lista de los motores del datasets \n",
    "train_units, test_units = train_test_split(units, test_size=0.2, random_state=42) # Dividimos los motores en 2 grupos en train el 80% y en test 20%\n",
    "\n",
    "# Filtramos para que los motores este en las lista \n",
    "X_train = X[data['unit'].isin(train_units)] # Los motores que se usa para entrenar\n",
    "y_train = y[data['unit'].isin(train_units)]\n",
    "X_test = X[data['unit'].isin(test_units)] # Los motores que se usa para evaluar \n",
    "y_test = y[data['unit'].isin(test_units)]\n",
    "\n",
    "print(f\"Train motors: {len(train_units)}, Test motors: {len(test_units)}\")\n",
    "\n",
    "# Entrenar modelo\n",
    "model = RandomForestRegressor( # Modelo de ensamble basado en arbol de decision\n",
    "    n_estimators=200, # Numero de arboles del modelo, mas arboles mas estable pero lenta\n",
    "    max_depth=15, # Numero de profundidad de cada arbol, numero de divisiones de las ramas \n",
    "    random_state=42, # Semilla aleatoria de reproducibilidad\n",
    "    n_jobs=-1 # Numero de nucleo de cpu que usa\n",
    ")\n",
    "model.fit(X_train, y_train)\n",
    "\n",
    "# Evaluar modelo\n",
    "y_pred = model.predict(X_test) # Usamos el modelo que entrenamos para predecir la rul y_pred -> Array con las predicciones\n",
    "\n",
    "# Usamos numpy sqrt por falla en la opcion squared\n",
    "rmse = np.sqrt(mean_squared_error(y_test, y_pred)) # Root Mean Squared error -> Igual que mean pero penaliza mas los errores grandes \n",
    "mae = mean_absolute_error(y_test, y_pred) # Mean Absolute error -> Promedio de la diferencia entre la prediccion y el valor real\n",
    "\n",
    "print(f\"RMSE: {rmse:.2f}\") # Mostrar resultado con 2 difras\n",
    "print(f\"MAE:  {mae:.2f}\")\n",
    "\n",
    "# Guardar modelo\n",
    "os.makedirs(\"../models\", exist_ok=True)  # Crea el directorio en la raiz\n",
    "joblib.dump(model, \"../models/rf_model_fd001.pkl\", compress = 3 ) # Guarda los resultado en un archivo\n",
    "\n",
    "print(\"Modelo guardado en ../models/rf_model_fd001.pkl\")"
   ]
  }
 ],
 "metadata": {
  "kernelspec": {
   "display_name": "package_python",
   "language": "python",
   "name": "python3"
  },
  "language_info": {
   "codemirror_mode": {
    "name": "ipython",
    "version": 3
   },
   "file_extension": ".py",
   "mimetype": "text/x-python",
   "name": "python",
   "nbconvert_exporter": "python",
   "pygments_lexer": "ipython3",
   "version": "3.12.7"
  }
 },
 "nbformat": 4,
 "nbformat_minor": 5
}
