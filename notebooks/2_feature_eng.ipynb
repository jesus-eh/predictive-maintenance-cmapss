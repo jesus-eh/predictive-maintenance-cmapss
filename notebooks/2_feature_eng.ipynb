{
 "cells": [
  {
   "cell_type": "code",
   "execution_count": null,
   "id": "945e9b00",
   "metadata": {},
   "outputs": [],
   "source": [
    "\n",
    "# Importar librerías\n",
    "import pandas as pd\n",
    "import numpy as np\n",
    "from sklearn.preprocessing import StandardScaler\n",
    "\n",
    "# Cargar datos\n",
    "col_names = ['unit', 'time', 'op1', 'op2', 'op3'] + [f'sensor_{i}' for i in range(1, 22)]\n",
    "\n",
    "train = pd.read_csv(\n",
    "    \"../data/CMAPSSData/train_FD001.txt\",\n",
    "    sep=r'\\s+',\n",
    "    header=None,\n",
    "    names=col_names\n",
    ") # Indacamos de la ruta de donde tenemos los datos\n",
    "\n",
    "\n",
    "# Crear RUL (Remaining Useful Life)\n",
    "train['RUL'] = train.groupby('unit')['time'].transform(max) - train['time']\n",
    "\n",
    "\n",
    "# Feature Engineering\n",
    "\n",
    "def create_features(df, window_sizes=[5, 10]):\n",
    "    df_feat = df.copy()\n",
    "    \n",
    "    # Diferencias de sensores\n",
    "    sensor_cols = [c for c in df.columns if 'sensor_' in c]\n",
    "    for col in sensor_cols:\n",
    "        df_feat[f'{col}_diff'] = df_feat.groupby('unit')[col].diff()\n",
    "    \n",
    "    # Medias y desviaciones en ventanas móviles\n",
    "    for window in window_sizes:\n",
    "        for col in sensor_cols:\n",
    "            df_feat[f'{col}_mean_{window}'] = df_feat.groupby('unit')[col].rolling(window=window, min_periods=1).mean().reset_index(0,drop=True)\n",
    "            df_feat[f'{col}_std_{window}']  = df_feat.groupby('unit')[col].rolling(window=window, min_periods=1).std().reset_index(0,drop=True)\n",
    "    \n",
    "    return df_feat\n",
    "\n",
    "train_feat = create_features(train)\n",
    "\n",
    "# Escalado / Normalización\n",
    "feature_cols = [c for c in train_feat.columns if 'sensor' in c or 'op' in c]\n",
    "scaler = StandardScaler()\n",
    "train_feat[feature_cols] = scaler.fit_transform(train_feat[feature_cols])\n",
    "\n",
    "# Guardar dataset procesado\n",
    "train_feat.to_csv(\"../data/CMAPSSData/train_FD001_features.csv\", index=False)\n",
    "\n",
    "# Vista previa\n",
    "train_feat.head()\n"
   ]
  }
 ],
 "metadata": {
  "kernelspec": {
   "display_name": "package_python",
   "language": "python",
   "name": "python3"
  },
  "language_info": {
   "codemirror_mode": {
    "name": "ipython",
    "version": 3
   },
   "file_extension": ".py",
   "mimetype": "text/x-python",
   "name": "python",
   "nbconvert_exporter": "python",
   "pygments_lexer": "ipython3",
   "version": "3.12.7"
  }
 },
 "nbformat": 4,
 "nbformat_minor": 5
}
