{
 "cells": [
  {
   "cell_type": "code",
   "execution_count": null,
   "id": "2407f749",
   "metadata": {},
   "outputs": [],
   "source": [
    "import pandas as pd\n",
    "import matplotlib.pyplot as plt\n",
    "\n",
    "# Cargar datos con nombres de columnas\n",
    "col_names = ['unit', 'time', 'op1', 'op2', 'op3'] + [f'sensor_{i}' for i in range(1, 22)] # Le damos nombre a la columna que vamos a usar\n",
    "train = pd.read_csv(\n",
    "    \"../data/CMAPSSData/train_FD001.txt\",\n",
    "    sep=r'\\s+',\n",
    "    header=None,\n",
    "    names=col_names\n",
    ") # Cojemos los datos del datasets\n",
    "\n",
    "# Filtrar un motor concreto (por ejemplo, unit=1)\n",
    "motor_1 = train[train['unit'] == 2] # Filtramos los datos que vamos usar\n",
    "\n",
    "# Graficar sensor_2 en función del tiempo\n",
    "plt.figure(figsize=(10,4)) # Le damos la dimension del grafico\n",
    "plt.plot(motor_1['time'], motor_1['sensor_2']) # Cojemos los datos que usaremos en las cordenadas x e y\n",
    "plt.title('Evolución del sensor (motor 1)') # Le petemos el titulo a la grafica\n",
    "plt.xlabel('Ciclos') # Etiqueta para la cordenada x\n",
    "plt.ylabel('Valor') # Etiqueta para la cordenada y\n",
    "plt.show() # Mostrar la grafica"
   ]
  }
 ],
 "metadata": {
  "kernelspec": {
   "display_name": "base",
   "language": "python",
   "name": "python3"
  },
  "language_info": {
   "codemirror_mode": {
    "name": "ipython",
    "version": 3
   },
   "file_extension": ".py",
   "mimetype": "text/x-python",
   "name": "python",
   "nbconvert_exporter": "python",
   "pygments_lexer": "ipython3",
   "version": "3.12.7"
  }
 },
 "nbformat": 4,
 "nbformat_minor": 5
}
