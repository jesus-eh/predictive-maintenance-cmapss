{
 "cells": [
  {
   "cell_type": "code",
   "execution_count": null,
   "id": "2407f749",
   "metadata": {},
   "outputs": [],
   "source": [
    "# 1. imports\n",
    "import pandas as pd\n",
    "import numpy as np\n",
    "import matplotlib.pyplot as plt\n",
    "import seaborn as sns\n",
    "\n",
    "# 2. cargar datos (ajusta ruta)\n",
    "train = pd.read_csv('../data/raw/train_FD001.txt', sep='\\s+', header=None) # Coge datos del dataset\n",
    "train.head()\n",
    "\n",
    "# 3. stats\n",
    "train.describe()\n",
    "\n",
    "# 4. ejemplo de plot (ficticio)\n",
    "plt.figure(figsize=(10,4))\n",
    "plt.plot(train.iloc[0, :50])\n",
    "plt.title('Señal ejemplo')\n",
    "plt.show()"
   ]
  }
 ],
 "metadata": {
  "kernelspec": {
   "display_name": "package_python",
   "language": "python",
   "name": "python3"
  },
  "language_info": {
   "name": "python",
   "version": "3.12.7"
  }
 },
 "nbformat": 4,
 "nbformat_minor": 5
}
